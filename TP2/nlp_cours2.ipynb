{
 "cells": [
  {
   "cell_type": "code",
   "execution_count": 1,
   "metadata": {},
   "outputs": [],
   "source": [
    "import re"
   ]
  },
  {
   "cell_type": "code",
   "execution_count": 2,
   "metadata": {},
   "outputs": [],
   "source": [
    "pattern = r'\\d+'\n",
    "\n",
    "regex_object = re.compile(pattern)"
   ]
  },
  {
   "cell_type": "code",
   "execution_count": 7,
   "metadata": {},
   "outputs": [
    {
     "name": "stdout",
     "output_type": "stream",
     "text": [
      "Pattern found: 3\n"
     ]
    }
   ],
   "source": [
    "text_simple ='the poop is good and 3Thomas smel like poop'\n",
    "\n",
    "match = regex_object.search(text_simple)\n",
    "\n",
    "if match :\n",
    "    print(\"Pattern found:\", match.group())\n",
    "else:\n",
    "    print(\"Pattern not found\")\n"
   ]
  },
  {
   "cell_type": "code",
   "execution_count": 10,
   "metadata": {},
   "outputs": [
    {
     "name": "stdout",
     "output_type": "stream",
     "text": [
      "Pattern found: orange\n"
     ]
    }
   ],
   "source": [
    "pattern1= r'orange'\n",
    "text= 'I have an orange and an apple orange'\n",
    "result = re.search(pattern1, text)\n",
    "\n",
    "if result:\n",
    "    print(\"Pattern found:\", result.group())\n",
    "else:\n",
    "    print(\"Pattern not found\")"
   ]
  },
  {
   "cell_type": "code",
   "execution_count": 29,
   "metadata": {},
   "outputs": [
    {
     "name": "stdout",
     "output_type": "stream",
     "text": [
      "Match Object: <re.Match object; span=(0, 3), match='Emm'>\n",
      "\n",
      "Matched string: Emm\n"
     ]
    }
   ],
   "source": [
    "target_string = 'Emma is a badminton player who was born in 1992. She is very good in badminton. azertyuio'\n",
    "\n",
    "result = re.search(r'\\w{3}', target_string)\n",
    "\n",
    "print(\"Match Object:\", result)\n",
    "\n",
    "print(\"\\nMatched string:\", result.group())"
   ]
  },
  {
   "cell_type": "code",
   "execution_count": 32,
   "metadata": {},
   "outputs": [
    {
     "name": "stdout",
     "output_type": "stream",
     "text": [
      "Match Object: ['is', 'a', 'who', 'was', 'in', 'She', 'is', 'in']\n"
     ]
    }
   ],
   "source": [
    "target_string = 'Emma is a badminton player who was born in 1992. She is very good in badminton. azertyuio'\n",
    "\n",
    "\n",
    "\n",
    "result = re.findall(r'\\b\\w{1,3}\\b', target_string)\n",
    "print(\"Match Object:\", result)\n"
   ]
  },
  {
   "cell_type": "code",
   "execution_count": 35,
   "metadata": {},
   "outputs": [
    {
     "name": "stdout",
     "output_type": "stream",
     "text": [
      "Zip code found: ['10001']\n"
     ]
    }
   ],
   "source": [
    "statement = \"The zip code of New York is 10001.\"\n",
    "\n",
    "regex = r'[0-9]{5}'\n",
    "zip_code   = re.findall(regex, statement)\n",
    "\n",
    "if zip_code:\n",
    "    print(\"Zip code found:\", zip_code)\n",
    "else:\n",
    "    print(\"Zip code not found\")"
   ]
  },
  {
   "cell_type": "code",
   "execution_count": 37,
   "metadata": {},
   "outputs": [
    {
     "name": "stdout",
     "output_type": "stream",
     "text": [
      "None\n"
     ]
    }
   ],
   "source": [
    "txt = \"The rain in Spain\"\n",
    "x = re.search(\"Portugal\", txt)\n",
    "print(x)"
   ]
  },
  {
   "cell_type": "code",
   "execution_count": 49,
   "metadata": {},
   "outputs": [
    {
     "name": "stdout",
     "output_type": "stream",
     "text": [
      "362105 12623\n"
     ]
    }
   ],
   "source": [
    "string =\"362105 1262320, 582050 582\"\n",
    "\n",
    "pattern = \"(\\d{6})\\s(\\d{5})\"\n",
    "\n",
    "result = re.search(pattern, string)\n",
    "\n",
    "if result:\n",
    "    print(result.group())\n",
    "else:\n",
    "    print(\"Pattern not found\")\n"
   ]
  },
  {
   "cell_type": "code",
   "execution_count": 56,
   "metadata": {},
   "outputs": [
    {
     "name": "stdout",
     "output_type": "stream",
     "text": [
      "362105 12623\n",
      "362105\n",
      "12623\n",
      "('362105', '12623')\n"
     ]
    }
   ],
   "source": [
    "print(result.group())\n",
    "print(result.group(1))\n",
    "print(result.group(2))\n",
    "print(result.group(1,2))"
   ]
  },
  {
   "cell_type": "code",
   "execution_count": 64,
   "metadata": {},
   "outputs": [],
   "source": [
    "name_check=re.compile(r'[^A-Za-zs.]')\n",
    "name= input(\"Enter your name: \")\n",
    "while name_check.search(name):\n",
    "    print(\"Please enter your name correctly\")\n",
    "    name = input(\"Enter your name: \")\n"
   ]
  },
  {
   "cell_type": "code",
   "execution_count": 68,
   "metadata": {},
   "outputs": [
    {
     "name": "stdout",
     "output_type": "stream",
     "text": [
      "Maches found ['fox']\n"
     ]
    }
   ],
   "source": [
    "pattern = r'\\b[f|d]\\w*\\b'\n",
    "regex=re.compile(pattern)\n",
    "\n",
    "text = 'The fox is very clever and it is a wild animal'\n",
    "\n",
    "matches = regex.findall(text)\n",
    "print('Maches found',matches)"
   ]
  },
  {
   "cell_type": "code",
   "execution_count": 227,
   "metadata": {},
   "outputs": [],
   "source": [
    "# QUIZ\n",
    " \n",
    "Text='''Dear Team,\n",
    "I wanted to inform you all about my upcoming travel plans. I’ll be flying to New York on September 24th, 2024 and arriving at JFK Airport at 7:45 AM EST. My return flight is scheduled for Friday, 15-10-2024, departing at 16:00 EDT. If you need to reach me before the trip, feel free to email me at john.doe@example.com or call my direct number, (555) 123-4567. During the trip, my mobile will be on: +1 212-555-7890 or you can contact my assistant, Mme. Jackson, at +33 123450987. For urgent issues relating to my responsibilities, please contact Herper Williams or Professor Timothy Johnson. Please note that I will be unavailable for meetings between 09/25/2024 and 10/12/2024, but I’ll have access to emails and phone calls in case of emergencies.\n",
    " \n",
    "Best regards,\n",
    "John Doe'''\n",
    " "
   ]
  },
  {
   "cell_type": "markdown",
   "metadata": {},
   "source": [
    "Task 1: Detect Phone number appear in the text using Regex"
   ]
  },
  {
   "cell_type": "code",
   "execution_count": 83,
   "metadata": {},
   "outputs": [
    {
     "name": "stdout",
     "output_type": "stream",
     "text": [
      "Maches found ['+33 123450987']\n",
      "Maches found ['+1 212-555-7890']\n",
      "Maches found ['(555) 123-4567']\n"
     ]
    }
   ],
   "source": [
    "pattern1 = '\\+\\w+\\s\\d{9}'\n",
    "pattern2 = '\\+\\w+\\s\\d{3}-\\d{3}-\\d{4}'\n",
    "pattern3 = '\\(.*?\\)\\s\\d{3}-\\d{4}'\n",
    "\n",
    "regex1 = re.compile(pattern1)\n",
    "regex2 = re.compile(pattern2)\n",
    "regex3=re.compile(pattern3)\n",
    "\n",
    "\n",
    "matches1 = regex1.findall(Text)\n",
    "matches2 = regex2.findall(Text)\n",
    "matches3 = regex3.findall(Text)\n",
    "\n",
    "print('Maches found',matches1)\n",
    "print('Maches found',matches2)\n",
    "print('Maches found',matches3)\n"
   ]
  },
  {
   "cell_type": "markdown",
   "metadata": {},
   "source": [
    "Task 2: Detect  important times/schedules (time, date) appear in the text using Regex"
   ]
  },
  {
   "cell_type": "code",
   "execution_count": 108,
   "metadata": {},
   "outputs": [
    {
     "name": "stdout",
     "output_type": "stream",
     "text": [
      "Maches found ['7:45 AM', '16:00 EDT']\n",
      "Maches found ['09/25/2024', '10/12/2024']\n",
      "Maches found ['15-10-2024']\n",
      "Maches found ['September 24th, 2024']\n"
     ]
    }
   ],
   "source": [
    "pattern1 = '\\d{1,2}\\:\\d{2}\\s[A-Z]{2,3}'\n",
    "pattern2 = '\\d{2}/\\d{2}/\\d{4}'\n",
    "pattern3 = '\\d{2}-\\d{2}-\\d{4}'\n",
    "pattern4 = '[A-Za-zs]{3,9}\\s\\d{1,2}[a-z]{2},\\s\\d{4}'\n",
    "\n",
    "regex1 = re.compile(pattern1)\n",
    "regex2 = re.compile(pattern2)\n",
    "regex3=re.compile(pattern3)\n",
    "regex4=re.compile(pattern4)\n",
    "\n",
    "\n",
    "matches1 = regex1.findall(Text)\n",
    "matches2 = regex2.findall(Text)\n",
    "matches3 = regex3.findall(Text)\n",
    "matches4 = regex4.findall(Text)\n",
    "\n",
    "\n",
    "print('Maches found',matches1)\n",
    "print('Maches found',matches2)\n",
    "print('Maches found',matches3)\n",
    "print('Maches found',matches4)"
   ]
  },
  {
   "cell_type": "markdown",
   "metadata": {},
   "source": [
    "Task 3: Detect place/location in the text using Regex\n"
   ]
  },
  {
   "cell_type": "code",
   "execution_count": 132,
   "metadata": {},
   "outputs": [
    {
     "name": "stdout",
     "output_type": "stream",
     "text": [
      "Maches found ['New York']\n",
      "Maches found ['JFK Airport']\n"
     ]
    }
   ],
   "source": [
    "pattern1 = '(?<=to\\s)[A-Z][a-z]+\\s[A-Z][a-z]+'\n",
    "pattern2 = '(?<=at\\s)[A-Z]+\\s[A-Z][a-z]+'\n",
    "\n",
    "regex1 = re.compile(pattern1)\n",
    "regex2 = re.compile(pattern2)\n",
    "\n",
    "\n",
    "matches1 = regex1.findall(Text)\n",
    "matches2 = regex2.findall(Text)\n",
    "\n",
    "print('Maches found',matches1)\n",
    "print('Maches found',matches2)\n"
   ]
  },
  {
   "cell_type": "markdown",
   "metadata": {},
   "source": [
    "Task 4: Detect names of people in text using Regex"
   ]
  },
  {
   "cell_type": "code",
   "execution_count": 234,
   "metadata": {},
   "outputs": [
    {
     "name": "stdout",
     "output_type": "stream",
     "text": [
      "Maches found ['Timothy Johnson']\n",
      "Maches found ['Herper Williams', 'John Doe']\n",
      "Maches found ['Jackson']\n"
     ]
    }
   ],
   "source": [
    "pattern1 = '(?<=Professor\\s)[A-Z][a-z]+\\s[A-Z][a-z]+'\n",
    "pattern2 = '(?<!to\\s)(?<=\\s)(?<!or\\s)[A-Z][a-z]+\\s[A-Z][a-z]+'\n",
    "pattern3 = '(?<=Mme.\\s)[A-Z][a-z]+'\n",
    "\n",
    "regex1 = re.compile(pattern1)\n",
    "regex2 = re.compile(pattern2)\n",
    "regex3=re.compile(pattern3)\n",
    "\n",
    "\n",
    "matches1 = regex1.findall(Text)\n",
    "matches2 = regex2.findall(Text)\n",
    "matches3 = regex3.findall(Text)\n",
    "\n",
    "print('Maches found',matches1)\n",
    "print('Maches found',matches2)\n",
    "print('Maches found',matches3)\n"
   ]
  }
 ],
 "metadata": {
  "kernelspec": {
   "display_name": "venv",
   "language": "python",
   "name": "python3"
  },
  "language_info": {
   "codemirror_mode": {
    "name": "ipython",
    "version": 3
   },
   "file_extension": ".py",
   "mimetype": "text/x-python",
   "name": "python",
   "nbconvert_exporter": "python",
   "pygments_lexer": "ipython3",
   "version": "3.11.9"
  }
 },
 "nbformat": 4,
 "nbformat_minor": 2
}
