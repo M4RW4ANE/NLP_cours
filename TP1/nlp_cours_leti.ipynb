{
 "cells": [
  {
   "cell_type": "code",
   "execution_count": 77,
   "metadata": {},
   "outputs": [],
   "source": [
    "import re\n",
    "import string\n",
    "import nltk"
   ]
  },
  {
   "cell_type": "markdown",
   "metadata": {},
   "source": [
    "# Lowercasing / Minuscules"
   ]
  },
  {
   "cell_type": "code",
   "execution_count": 78,
   "metadata": {},
   "outputs": [],
   "source": [
    "# Lowercasing (mettre tout en minuscules)\n",
    "def text_lowercase(text) : \n",
    "    return text.lower()\n"
   ]
  },
  {
   "cell_type": "code",
   "execution_count": 79,
   "metadata": {},
   "outputs": [
    {
     "data": {
      "text/plain": [
       "\"\\n    bonjour, je m'appel laëtitia. je   suis étudiante en informatique et j'aime beaucoup la programation. \\n    mon  objectif est de develloper des application innovantes. en ce moment, j'aprend le python et le python. \\n    c'est tres interéssant, mais parfois un peut dificile. j'éspère m'ameliorer rapidement ! \\n    contactez-moi au 06.12.34.56.78 ou par mail à exemple@mail.com !\\n    au fait j'ai 36 ans.\\n\""
      ]
     },
     "execution_count": 79,
     "metadata": {},
     "output_type": "execute_result"
    }
   ],
   "source": [
    "input_text = \"\"\"\n",
    "    Bonjour, je m'appel Laëtitia. Je   suis étudiante en informatique et j'aime beaucoup la programation. \n",
    "    Mon  objectif est de develloper des application innovantes. En ce moment, j'aprend le python et le python. \n",
    "    C'est tres interéssant, mais parfois un peut dificile. J'éspère m'ameliorer rapidement ! \n",
    "    Contactez-moi au 06.12.34.56.78 ou par mail à exemple@mail.com !\n",
    "    Au fait j'ai 36 ans.\n",
    "\"\"\"\n",
    "\n",
    "text_lowercase(input_text)"
   ]
  },
  {
   "cell_type": "markdown",
   "metadata": {},
   "source": [
    "# Numbers"
   ]
  },
  {
   "cell_type": "code",
   "execution_count": 80,
   "metadata": {},
   "outputs": [],
   "source": [
    "# Removing number/digits\n",
    "def remove_numbers(text) : \n",
    "    result = re.sub(r'\\d+', '', text)\n",
    "    return result"
   ]
  },
  {
   "cell_type": "code",
   "execution_count": 81,
   "metadata": {},
   "outputs": [
    {
     "data": {
      "text/plain": [
       "\"\\n    Bonjour, je m'appel Laëtitia. Je   suis étudiante en informatique et j'aime beaucoup la programation. \\n    Mon  objectif est de develloper des application innovantes. En ce moment, j'aprend le python et le python. \\n    C'est tres interéssant, mais parfois un peut dificile. J'éspère m'ameliorer rapidement ! \\n    Contactez-moi au .... ou par mail à exemple@mail.com !\\n    Au fait j'ai  ans.\\n\""
      ]
     },
     "execution_count": 81,
     "metadata": {},
     "output_type": "execute_result"
    }
   ],
   "source": [
    "remove_numbers(input_text)"
   ]
  },
  {
   "cell_type": "code",
   "execution_count": 82,
   "metadata": {},
   "outputs": [
    {
     "data": {
      "text/plain": [
       "\"Bonjour, je m'appel Laëtitia. Je suis étudiante en informatique et j'aime beaucoup la programation. Mon objectif est de develloper des application innovantes. En ce moment, j'aprend le python et le python. C'est tres interéssant, mais parfois un peut dificile. J'éspère m'ameliorer rapidement ! Contactez-moi au 06.12.34.56.78 ou par mail à exemple@mail.com ! Au fait j'ai thirty-six ans.\""
      ]
     },
     "execution_count": 82,
     "metadata": {},
     "output_type": "execute_result"
    }
   ],
   "source": [
    "import inflect\n",
    "\n",
    "# Crée une instance de l'objet inflect pour convertir des nombres en mots\n",
    "p = inflect.engine()\n",
    "\n",
    "# Fonction pour convertir les nombres dans un texte en mots\n",
    "def convert_number(text):\n",
    "    # Divise le texte en mots en utilisant des espaces comme séparateurs\n",
    "    temp_str = text.split()\n",
    "    # Initialise une liste pour stocker les nouveaux mots\n",
    "    new_string = []\n",
    "    \n",
    "    # Parcourt chaque mot dans la liste de mots\n",
    "    for word in temp_str:\n",
    "        # Vérifie si le mot est un nombre (tous les caractères sont des chiffres)\n",
    "        if word.isdigit():\n",
    "            # Convertit le nombre en mots\n",
    "            temp = p.number_to_words(word)\n",
    "            # Ajoute le mot converti à la nouvelle liste\n",
    "            new_string.append(temp)\n",
    "        else:\n",
    "            # Si ce n'est pas un nombre, ajoute le mot original à la nouvelle liste\n",
    "            new_string.append(word)\n",
    "    \n",
    "    # Rejoint les mots de la nouvelle liste en une seule chaîne de caractères\n",
    "    temp_str = ' '.join(new_string)\n",
    "    # Retourne le texte avec les nombres convertis en mots\n",
    "    return temp_str\n",
    "\n",
    "convert_number(input_text)\n"
   ]
  },
  {
   "cell_type": "markdown",
   "metadata": {},
   "source": [
    "# Ponctuation"
   ]
  },
  {
   "cell_type": "code",
   "execution_count": 83,
   "metadata": {},
   "outputs": [
    {
     "name": "stdout",
     "output_type": "stream",
     "text": [
      "['!', '\"', '#', '$', '%', '&', \"'\", '(', ')', '*', '+', ',', '-', '.', '/', ':', ';', '<', '=', '>', '?', '@', '[', '\\\\', ']', '^', '_', '`', '{', '|', '}', '~']\n"
     ]
    }
   ],
   "source": [
    "regular_punct = list(string.punctuation)\n",
    "print(regular_punct)"
   ]
  },
  {
   "cell_type": "code",
   "execution_count": 84,
   "metadata": {},
   "outputs": [
    {
     "data": {
      "text/plain": [
       "'Bonjour je mappel Laëtitia Je   suis étudiante en informatique et jaime beaucoup la programation \\n    Mon  objectif est de develloper des application innovantes En ce moment japrend le python et le python \\n    Cest tres interéssant mais parfois un peut dificile Jéspère mameliorer rapidement  \\n    Contactezmoi au 0612345678 ou par mail à exemplemailcom \\n    Au fait jai 36 ans'"
      ]
     },
     "execution_count": 84,
     "metadata": {},
     "output_type": "execute_result"
    }
   ],
   "source": [
    "def remove_punctuation(text, punct_list):\n",
    "    # Parcourt chaque caractère de ponctuation dans la liste fournie\n",
    "    for punc in punct_list:\n",
    "        # Vérifie si le caractère de ponctuation est présent dans le texte\n",
    "        if punc in text:\n",
    "            # Remplace le caractère de ponctuation par une chaîne vide (le supprime)\n",
    "            text = text.replace(punc, '')\n",
    "    # Supprime les espaces inutiles au début et à la fin du texte\n",
    "    return text.strip()\n",
    "\n",
    "remove_punctuation(input_text, regular_punct)"
   ]
  },
  {
   "cell_type": "code",
   "execution_count": 85,
   "metadata": {},
   "outputs": [
    {
     "data": {
      "text/plain": [
       "'\\n    Bonjour je mappel Laëtitia Je   suis étudiante en informatique et jaime beaucoup la programation \\n    Mon  objectif est de develloper des application innovantes En ce moment japrend le python et le python \\n    Cest tres interéssant mais parfois un peut dificile Jéspère mameliorer rapidement  \\n    Contactezmoi au 0612345678 ou par mail à exemplemailcom \\n    Au fait jai 36 ans\\n'"
      ]
     },
     "execution_count": 85,
     "metadata": {},
     "output_type": "execute_result"
    }
   ],
   "source": [
    "# Fonction pour supprimer la ponctuation d'un texte\n",
    "def remove_punctuation2(text):\n",
    "    # Crée un traducteur qui mappe chaque caractère de ponctuation à None\n",
    "    translator = str.maketrans('', '', string.punctuation)\n",
    "    # Utilise le traducteur pour supprimer la ponctuation du texte\n",
    "    return text.translate(translator)\n",
    "\n",
    "remove_punctuation2(input_text)"
   ]
  },
  {
   "cell_type": "code",
   "execution_count": 86,
   "metadata": {},
   "outputs": [
    {
     "data": {
      "text/plain": [
       "\"Bonjour, je m'appel Laëtitia. Je suis étudiante en informatique et j'aime beaucoup la programation. Mon objectif est de develloper des application innovantes. En ce moment, j'aprend le python et le python. C'est tres interéssant, mais parfois un peut dificile. J'éspère m'ameliorer rapidement ! Contactez-moi au 06.12.34.56.78 ou par mail à exemple@mail.com ! Au fait j'ai 36 ans.\""
      ]
     },
     "execution_count": 86,
     "metadata": {},
     "output_type": "execute_result"
    }
   ],
   "source": [
    "# Fonction pour supprimer les espaces blancs supplémentaires d'un texte\n",
    "def remove_whitespace(text):\n",
    "    # Utilise split() pour diviser le texte en mots (en ignorant les espaces supplémentaires)\n",
    "    # Puis utilise join() pour les rassembler avec un seul espace entre chaque mot\n",
    "    return \" \".join(text.split())\n",
    "\n",
    "remove_whitespace(input_text)"
   ]
  },
  {
   "cell_type": "code",
   "execution_count": 87,
   "metadata": {},
   "outputs": [
    {
     "data": {
      "text/plain": [
       "'Visit  for more informations'"
      ]
     },
     "execution_count": 87,
     "metadata": {},
     "output_type": "execute_result"
    }
   ],
   "source": [
    "# Définition d'un motif d'expression régulière pour détecter les URLs\n",
    "url_pattern = re.compile(r'https?://\\S+')\n",
    "\n",
    "# Fonction pour supprimer les URLs d'un texte\n",
    "def remove_url(text):\n",
    "    # Utilise le motif d'expression régulière pour remplacer les URLs par une chaîne vide\n",
    "    return url_pattern.sub('', text)\n",
    "\n",
    "text = \"Visit https://www.google.com for more informations\"\n",
    "remove_url(text)"
   ]
  },
  {
   "cell_type": "code",
   "execution_count": 88,
   "metadata": {},
   "outputs": [
    {
     "data": {
      "text/plain": [
       "'Visit <this link> for more informations'"
      ]
     },
     "execution_count": 88,
     "metadata": {},
     "output_type": "execute_result"
    }
   ],
   "source": [
    "url_pattern = []\n",
    "url_pattern.append(re.compile(r'https:?//\\S+'))\n",
    "url_pattern.append(re.compile(r'http:?//\\S+'))\n",
    "url_pattern.append(re.compile(r'www.\\S+'))\n",
    "\n",
    "def remove_url2(text) : \n",
    "    for pattern in url_pattern : \n",
    "        text = pattern.sub('<this link>', text)\n",
    "    return text\n",
    "\n",
    "text = \"Visit https://www.google.com for more informations\"\n",
    "remove_url2(text)\n"
   ]
  },
  {
   "cell_type": "markdown",
   "metadata": {},
   "source": [
    "# Tokenization"
   ]
  },
  {
   "cell_type": "code",
   "execution_count": 89,
   "metadata": {},
   "outputs": [
    {
     "name": "stderr",
     "output_type": "stream",
     "text": [
      "[nltk_data] Downloading package punkt_tab to\n",
      "[nltk_data]     C:\\Users\\laetitia.monnier\\AppData\\Roaming\\nltk_data...\n",
      "[nltk_data]   Package punkt_tab is already up-to-date!\n"
     ]
    },
    {
     "data": {
      "text/plain": [
       "True"
      ]
     },
     "execution_count": 89,
     "metadata": {},
     "output_type": "execute_result"
    }
   ],
   "source": [
    "nltk.download('punkt_tab')"
   ]
  },
  {
   "cell_type": "code",
   "execution_count": 90,
   "metadata": {},
   "outputs": [
    {
     "name": "stdout",
     "output_type": "stream",
     "text": [
      "Résultat Tokenization :  [\"C'est\", 'un', 'texte', 'pour', 'tester', 'la', 'tokenization']\n"
     ]
    }
   ],
   "source": [
    "text_exemple = \"C'est un texte pour tester la tokenization\"\n",
    "tokenized = nltk.word_tokenize(text_exemple)\n",
    "\n",
    "print(\"Résultat Tokenization : \", tokenized)"
   ]
  },
  {
   "cell_type": "markdown",
   "metadata": {},
   "source": [
    "# Stopwords / mots vides"
   ]
  },
  {
   "cell_type": "code",
   "execution_count": 91,
   "metadata": {},
   "outputs": [
    {
     "name": "stdout",
     "output_type": "stream",
     "text": [
      "{'étant', 'moi', 'eusse', 'aurais', 'l', 'eu', 'sois', 's', 'ont', 'avions', 'elle', 'c', 'ayez', 'les', 'me', 'auront', 'le', 'fûmes', 'été', 'ayons', 'ait', 'tu', 'étants', 'nous', 'te', 'j', 'auras', 'serons', 'de', 'eût', 'soient', 'eûtes', 'sommes', 'que', 'même', 'ses', 'étais', 'ta', 'vos', 'fussions', 'aient', 'eues', 'avait', 'ce', 'étantes', 'avais', 'soit', 'dans', 'ai', 't', 'étions', 'eussions', 'lui', 'ils', 'ton', 'serez', 'soyez', 'fusse', 'des', 'seras', 'toi', 'avons', 'vous', 'étante', 'pour', 'seront', 'sa', 'serait', 'était', 'avaient', 'mais', 'y', 'à', 'qu', 'serions', 'fût', 'sur', 'on', 'eux', 'étées', 'ayante', 'm', 'fussent', 'il', 'ne', 'serais', 'serai', 'seriez', 'fussiez', 'eut', 'eus', 'son', 'leur', 'et', 'avec', 'du', 'je', 'étés', 'seraient', 'en', 'qui', 'aie', 'par', 'as', 'n', 'la', 'fusses', 'fûtes', 'soyons', 'une', 'auraient', 'mes', 'est', 'aura', 'aurons', 'ces', 'étée', 'ayants', 'sont', 'eusses', 'eussent', 'pas', 'avez', 'es', 'ayant', 'aurez', 'auriez', 'aux', 'nos', 'êtes', 'notre', 'eussiez', 'étaient', 'd', 'mon', 'aurions', 'étiez', 'aurai', 'aurait', 'eue', 'ayantes', 'eûmes', 'eurent', 'suis', 'votre', 'un', 'fus', 'aviez', 'sera', 'ou', 'tes', 'fut', 'se', 'furent', 'ma', 'aies', 'au'}\n"
     ]
    },
    {
     "name": "stderr",
     "output_type": "stream",
     "text": [
      "[nltk_data] Downloading package stopwords to\n",
      "[nltk_data]     C:\\Users\\laetitia.monnier\\AppData\\Roaming\\nltk_data...\n",
      "[nltk_data]   Package stopwords is already up-to-date!\n"
     ]
    }
   ],
   "source": [
    "# Stop-Words Removal\n",
    "from nltk.corpus import stopwords\n",
    "nltk.download('stopwords')\n",
    "\n",
    "stop_words = set(stopwords.words('french'))\n",
    "print(stop_words)"
   ]
  },
  {
   "cell_type": "code",
   "execution_count": 92,
   "metadata": {},
   "outputs": [
    {
     "name": "stdout",
     "output_type": "stream",
     "text": [
      "{'étant', 'moi', 'eusse', 'aurais', 'l', 'eu', 'sois', 's', 'ont', 'avions', 'elle', 'c', 'ayez', 'les', 'me', 'auront', 'le', 'fûmes', 'été', 'ayons', 'ait', 'tu', 'étants', 'nous', 'te', 'j', 'auras', 'serons', 'de', 'eût', 'soient', 'eûtes', 'sommes', 'que', 'même', 'ses', 'étais', 'ta', 'vos', 'fussions', 'aient', 'eues', 'avait', 'ce', 'étantes', 'avais', 'soit', 'dans', 'ai', 't', 'étions', 'eussions', 'lui', 'ils', 'ton', 'serez', 'soyez', 'fusse', 'test', 'des', 'seras', 'toi', 'avons', 'vous', 'étante', 'pour', 'seront', 'sa', 'serait', 'était', 'avaient', 'mais', 'y', 'à', 'qu', 'serions', 'fût', 'sur', 'on', 'eux', 'étées', 'ayante', 'm', 'fussent', 'il', 'ne', 'serais', 'serai', 'seriez', 'fussiez', 'eut', 'eus', 'son', 'leur', 'et', 'avec', 'du', 'je', 'étés', 'seraient', 'en', 'qui', 'aie', 'par', 'as', 'n', 'la', 'fusses', 'fûtes', 'soyons', 'une', 'auraient', 'mes', 'est', 'aura', 'aurons', 'ces', 'étée', 'ayants', 'sont', 'eusses', 'eussent', 'pas', 'avez', 'es', 'ayant', 'aurez', 'auriez', 'aux', 'nos', 'êtes', 'notre', 'eussiez', 'étaient', 'd', 'mon', 'aurions', 'étiez', 'aurai', 'aurait', 'eue', 'ayantes', 'eûmes', 'eurent', 'suis', 'votre', 'un', 'fus', 'aviez', 'sera', 'ou', 'tes', 'fut', 'se', 'furent', 'ma', 'aies', 'au'}\n"
     ]
    }
   ],
   "source": [
    "stop_words.add('test')\n",
    "print(stop_words)"
   ]
  },
  {
   "cell_type": "code",
   "execution_count": 93,
   "metadata": {},
   "outputs": [
    {
     "name": "stdout",
     "output_type": "stream",
     "text": [
      "Avant :  \n",
      "    Bonjour, je m'appel Laëtitia. Je   suis étudiante en informatique et j'aime beaucoup la programation. \n",
      "    Mon  objectif est de develloper des application innovantes. En ce moment, j'aprend le python et le python. \n",
      "    C'est tres interéssant, mais parfois un peut dificile. J'éspère m'ameliorer rapidement ! \n",
      "    Contactez-moi au 06.12.34.56.78 ou par mail à exemple@mail.com !\n",
      "    Au fait j'ai 36 ans.\n",
      "\n",
      "Après :  ['Bonjour', ',', \"m'appel\", 'Laëtitia', '.', 'étudiante', 'informatique', \"j'aime\", 'beaucoup', 'programation', '.', 'objectif', 'develloper', 'application', 'innovantes', '.', 'moment', ',', \"j'aprend\", 'python', 'python', '.', \"C'est\", 'tres', 'interéssant', ',', 'parfois', 'peut', 'dificile', '.', \"J'éspère\", \"m'ameliorer\", 'rapidement', '!', 'Contactez-moi', '06.12.34.56.78', 'mail', 'exemple', '@', 'mail.com', '!', 'fait', \"j'ai\", '36', 'ans', '.']\n"
     ]
    },
    {
     "name": "stderr",
     "output_type": "stream",
     "text": [
      "[nltk_data] Downloading package punkt to\n",
      "[nltk_data]     C:\\Users\\laetitia.monnier\\AppData\\Roaming\\nltk_data...\n",
      "[nltk_data]   Package punkt is already up-to-date!\n",
      "[nltk_data] Downloading package stopwords to\n",
      "[nltk_data]     C:\\Users\\laetitia.monnier\\AppData\\Roaming\\nltk_data...\n",
      "[nltk_data]   Package stopwords is already up-to-date!\n"
     ]
    }
   ],
   "source": [
    "import nltk\n",
    "from nltk.tokenize import word_tokenize\n",
    "\n",
    "nltk.download('punkt')\n",
    "nltk.download('stopwords')\n",
    "\n",
    "def remove_stopwords(text) : \n",
    "    stop_words = set(stopwords.words(\"french\"))\n",
    "    word_tokens = word_tokenize(text)\n",
    "    \n",
    "    text_filtre= [word for word in word_tokens if word.lower() not in stop_words]\n",
    "    \n",
    "    return text_filtre\n",
    "\n",
    "print(\"Avant : \", input_text)\n",
    "print(\"Après : \", remove_stopwords(input_text))"
   ]
  },
  {
   "cell_type": "markdown",
   "metadata": {},
   "source": [
    "# Stemming & Lemmatization"
   ]
  },
  {
   "cell_type": "code",
   "execution_count": 94,
   "metadata": {},
   "outputs": [
    {
     "data": {
      "text/plain": [
       "['the',\n",
       " 'dog',\n",
       " 'were',\n",
       " 'run',\n",
       " 'in',\n",
       " 'the',\n",
       " 'park',\n",
       " ',',\n",
       " 'chase',\n",
       " 'ball',\n",
       " 'and',\n",
       " 'play',\n",
       " 'happili',\n",
       " '.']"
      ]
     },
     "execution_count": 94,
     "metadata": {},
     "output_type": "execute_result"
    }
   ],
   "source": [
    "# Stemming \n",
    "\n",
    "from nltk.stem.porter import PorterStemmer\n",
    "from nltk.tokenize import word_tokenize\n",
    "\n",
    "stremmer = PorterStemmer()\n",
    "\n",
    "def stem_words(text) : \n",
    "    word_tokens = word_tokenize(text)\n",
    "    stems = [stremmer.stem(word) for word in word_tokens]\n",
    "    \n",
    "    return stems\n",
    "\n",
    "text_exemple = \"The dogs were running in the park, chasing balls and playing happily.\"\n",
    "stem_words(text_exemple)"
   ]
  },
  {
   "cell_type": "code",
   "execution_count": 95,
   "metadata": {},
   "outputs": [
    {
     "name": "stderr",
     "output_type": "stream",
     "text": [
      "[nltk_data] Downloading package punkt to\n",
      "[nltk_data]     C:\\Users\\laetitia.monnier\\AppData\\Roaming\\nltk_data...\n",
      "[nltk_data]   Package punkt is already up-to-date!\n",
      "[nltk_data] Downloading package wordnet to\n",
      "[nltk_data]     C:\\Users\\laetitia.monnier\\AppData\\Roaming\\nltk_data...\n",
      "[nltk_data]   Package wordnet is already up-to-date!\n"
     ]
    },
    {
     "data": {
      "text/plain": [
       "['the',\n",
       " 'dog',\n",
       " 'were',\n",
       " 'run',\n",
       " 'in',\n",
       " 'the',\n",
       " 'park',\n",
       " ',',\n",
       " 'chase',\n",
       " 'ball',\n",
       " 'and',\n",
       " 'play',\n",
       " 'happili',\n",
       " '.']"
      ]
     },
     "execution_count": 95,
     "metadata": {},
     "output_type": "execute_result"
    }
   ],
   "source": [
    "from nltk.stem import WordNetLemmatizer\n",
    "from nltk.tokenize import word_tokenize\n",
    "\n",
    "nltk.download('punkt')\n",
    "nltk.download('wordnet')\n",
    "\n",
    "lemmatizer = WordNetLemmatizer()\n",
    "\n",
    "def lemma_words(text) : \n",
    "    word_token = word_tokenize(text)\n",
    "    lemmas = [lemmatizer.lemmatize(word) for word in word_token]\n",
    "    return lemmas\n",
    "\n",
    "text_exemple = \"The dogs were running in the park, chasing balls and playing happily.\"\n",
    "stem_words(text_exemple)"
   ]
  },
  {
   "cell_type": "code",
   "execution_count": 96,
   "metadata": {},
   "outputs": [
    {
     "name": "stdout",
     "output_type": "stream",
     "text": [
      "Original text :  The dogs were running in the park, chasing balls and playing happily.\n",
      "Lemmatized text :  the dog be run in the park , chase ball and play happily .\n"
     ]
    }
   ],
   "source": [
    "import spacy\n",
    "\n",
    "nlp = spacy.load('en_core_web_sm')\n",
    "\n",
    "text_exemple = \"The dogs were running in the park, chasing balls and playing happily.\"\n",
    "\n",
    "doc = nlp(text_exemple)\n",
    "\n",
    "lemmatized_tokens = [token.lemma_ for token in doc]\n",
    "\n",
    "lemmatized_text = ' '.join(lemmatized_tokens)\n",
    "\n",
    "print(\"Original text : \", text_exemple)\n",
    "print(\"Lemmatized text : \", lemmatized_text)"
   ]
  },
  {
   "cell_type": "code",
   "execution_count": 97,
   "metadata": {},
   "outputs": [
    {
     "data": {
      "text/html": [
       "<div>\n",
       "<style scoped>\n",
       "    .dataframe tbody tr th:only-of-type {\n",
       "        vertical-align: middle;\n",
       "    }\n",
       "\n",
       "    .dataframe tbody tr th {\n",
       "        vertical-align: top;\n",
       "    }\n",
       "\n",
       "    .dataframe thead th {\n",
       "        text-align: right;\n",
       "    }\n",
       "</style>\n",
       "<table border=\"1\" class=\"dataframe\">\n",
       "  <thead>\n",
       "    <tr style=\"text-align: right;\">\n",
       "      <th></th>\n",
       "      <th>S. No.</th>\n",
       "      <th>Message_body</th>\n",
       "      <th>Label</th>\n",
       "    </tr>\n",
       "  </thead>\n",
       "  <tbody>\n",
       "    <tr>\n",
       "      <th>0</th>\n",
       "      <td>1</td>\n",
       "      <td>UpgrdCentre Orange customer, you may now claim...</td>\n",
       "      <td>Spam</td>\n",
       "    </tr>\n",
       "    <tr>\n",
       "      <th>1</th>\n",
       "      <td>2</td>\n",
       "      <td>Loan for any purpose £500 - £75,000. Homeowner...</td>\n",
       "      <td>Spam</td>\n",
       "    </tr>\n",
       "    <tr>\n",
       "      <th>2</th>\n",
       "      <td>3</td>\n",
       "      <td>Congrats! Nokia 3650 video camera phone is you...</td>\n",
       "      <td>Spam</td>\n",
       "    </tr>\n",
       "    <tr>\n",
       "      <th>3</th>\n",
       "      <td>4</td>\n",
       "      <td>URGENT! Your Mobile number has been awarded wi...</td>\n",
       "      <td>Spam</td>\n",
       "    </tr>\n",
       "    <tr>\n",
       "      <th>4</th>\n",
       "      <td>5</td>\n",
       "      <td>Someone has contacted our dating service and e...</td>\n",
       "      <td>Spam</td>\n",
       "    </tr>\n",
       "  </tbody>\n",
       "</table>\n",
       "</div>"
      ],
      "text/plain": [
       "   S. No.                                       Message_body Label\n",
       "0       1  UpgrdCentre Orange customer, you may now claim...  Spam\n",
       "1       2  Loan for any purpose £500 - £75,000. Homeowner...  Spam\n",
       "2       3  Congrats! Nokia 3650 video camera phone is you...  Spam\n",
       "3       4  URGENT! Your Mobile number has been awarded wi...  Spam\n",
       "4       5  Someone has contacted our dating service and e...  Spam"
      ]
     },
     "execution_count": 97,
     "metadata": {},
     "output_type": "execute_result"
    }
   ],
   "source": [
    "import pandas as pd\n",
    "\n",
    "data = pd.read_csv('SMS_test.csv', encoding='ISO-8859-1')\n",
    "data.head(5)"
   ]
  },
  {
   "cell_type": "code",
   "execution_count": 98,
   "metadata": {},
   "outputs": [
    {
     "data": {
      "text/html": [
       "<div>\n",
       "<style scoped>\n",
       "    .dataframe tbody tr th:only-of-type {\n",
       "        vertical-align: middle;\n",
       "    }\n",
       "\n",
       "    .dataframe tbody tr th {\n",
       "        vertical-align: top;\n",
       "    }\n",
       "\n",
       "    .dataframe thead th {\n",
       "        text-align: right;\n",
       "    }\n",
       "</style>\n",
       "<table border=\"1\" class=\"dataframe\">\n",
       "  <thead>\n",
       "    <tr style=\"text-align: right;\">\n",
       "      <th></th>\n",
       "      <th>S. No.</th>\n",
       "      <th>Message_body</th>\n",
       "      <th>Label</th>\n",
       "      <th>Message_formate</th>\n",
       "    </tr>\n",
       "  </thead>\n",
       "  <tbody>\n",
       "    <tr>\n",
       "      <th>0</th>\n",
       "      <td>1</td>\n",
       "      <td>UpgrdCentre Orange customer, you may now claim...</td>\n",
       "      <td>Spam</td>\n",
       "      <td>upgrdcentre orange customer, you may now claim...</td>\n",
       "    </tr>\n",
       "    <tr>\n",
       "      <th>1</th>\n",
       "      <td>2</td>\n",
       "      <td>Loan for any purpose £500 - £75,000. Homeowner...</td>\n",
       "      <td>Spam</td>\n",
       "      <td>loan for any purpose £500 - £75,000. homeowner...</td>\n",
       "    </tr>\n",
       "    <tr>\n",
       "      <th>2</th>\n",
       "      <td>3</td>\n",
       "      <td>Congrats! Nokia 3650 video camera phone is you...</td>\n",
       "      <td>Spam</td>\n",
       "      <td>congrats! nokia 3650 video camera phone is you...</td>\n",
       "    </tr>\n",
       "    <tr>\n",
       "      <th>3</th>\n",
       "      <td>4</td>\n",
       "      <td>URGENT! Your Mobile number has been awarded wi...</td>\n",
       "      <td>Spam</td>\n",
       "      <td>urgent! your mobile number has been awarded wi...</td>\n",
       "    </tr>\n",
       "    <tr>\n",
       "      <th>4</th>\n",
       "      <td>5</td>\n",
       "      <td>Someone has contacted our dating service and e...</td>\n",
       "      <td>Spam</td>\n",
       "      <td>someone has contacted our dating service and e...</td>\n",
       "    </tr>\n",
       "    <tr>\n",
       "      <th>...</th>\n",
       "      <td>...</td>\n",
       "      <td>...</td>\n",
       "      <td>...</td>\n",
       "      <td>...</td>\n",
       "    </tr>\n",
       "    <tr>\n",
       "      <th>120</th>\n",
       "      <td>121</td>\n",
       "      <td>7 wonders in My WORLD 7th You 6th Ur style 5th...</td>\n",
       "      <td>Non-Spam</td>\n",
       "      <td>7 wonders in my world 7th you 6th ur style 5th...</td>\n",
       "    </tr>\n",
       "    <tr>\n",
       "      <th>121</th>\n",
       "      <td>122</td>\n",
       "      <td>Try to do something dear. You read something f...</td>\n",
       "      <td>Non-Spam</td>\n",
       "      <td>try to do something dear. you read something f...</td>\n",
       "    </tr>\n",
       "    <tr>\n",
       "      <th>122</th>\n",
       "      <td>123</td>\n",
       "      <td>Sun ah... Thk mayb can if dun have anythin on....</td>\n",
       "      <td>Non-Spam</td>\n",
       "      <td>sun ah... thk mayb can if dun have anythin on....</td>\n",
       "    </tr>\n",
       "    <tr>\n",
       "      <th>123</th>\n",
       "      <td>124</td>\n",
       "      <td>SYMPTOMS when U are in love: \"1.U like listeni...</td>\n",
       "      <td>Non-Spam</td>\n",
       "      <td>symptoms when u are in love: \"1.u like listeni...</td>\n",
       "    </tr>\n",
       "    <tr>\n",
       "      <th>124</th>\n",
       "      <td>125</td>\n",
       "      <td>Great. Have a safe trip. Dont panic surrender ...</td>\n",
       "      <td>Non-Spam</td>\n",
       "      <td>great. have a safe trip. dont panic surrender ...</td>\n",
       "    </tr>\n",
       "  </tbody>\n",
       "</table>\n",
       "<p>125 rows × 4 columns</p>\n",
       "</div>"
      ],
      "text/plain": [
       "     S. No.                                       Message_body     Label  \\\n",
       "0         1  UpgrdCentre Orange customer, you may now claim...      Spam   \n",
       "1         2  Loan for any purpose £500 - £75,000. Homeowner...      Spam   \n",
       "2         3  Congrats! Nokia 3650 video camera phone is you...      Spam   \n",
       "3         4  URGENT! Your Mobile number has been awarded wi...      Spam   \n",
       "4         5  Someone has contacted our dating service and e...      Spam   \n",
       "..      ...                                                ...       ...   \n",
       "120     121  7 wonders in My WORLD 7th You 6th Ur style 5th...  Non-Spam   \n",
       "121     122  Try to do something dear. You read something f...  Non-Spam   \n",
       "122     123  Sun ah... Thk mayb can if dun have anythin on....  Non-Spam   \n",
       "123     124  SYMPTOMS when U are in love: \"1.U like listeni...  Non-Spam   \n",
       "124     125  Great. Have a safe trip. Dont panic surrender ...  Non-Spam   \n",
       "\n",
       "                                       Message_formate  \n",
       "0    upgrdcentre orange customer, you may now claim...  \n",
       "1    loan for any purpose £500 - £75,000. homeowner...  \n",
       "2    congrats! nokia 3650 video camera phone is you...  \n",
       "3    urgent! your mobile number has been awarded wi...  \n",
       "4    someone has contacted our dating service and e...  \n",
       "..                                                 ...  \n",
       "120  7 wonders in my world 7th you 6th ur style 5th...  \n",
       "121  try to do something dear. you read something f...  \n",
       "122  sun ah... thk mayb can if dun have anythin on....  \n",
       "123  symptoms when u are in love: \"1.u like listeni...  \n",
       "124  great. have a safe trip. dont panic surrender ...  \n",
       "\n",
       "[125 rows x 4 columns]"
      ]
     },
     "execution_count": 98,
     "metadata": {},
     "output_type": "execute_result"
    }
   ],
   "source": [
    "# Mise en minuscules\n",
    "data['Message_formate'] = data['Message_body'].str.lower()\n",
    "\n",
    "data"
   ]
  },
  {
   "cell_type": "code",
   "execution_count": 99,
   "metadata": {},
   "outputs": [
    {
     "data": {
      "text/html": [
       "<div>\n",
       "<style scoped>\n",
       "    .dataframe tbody tr th:only-of-type {\n",
       "        vertical-align: middle;\n",
       "    }\n",
       "\n",
       "    .dataframe tbody tr th {\n",
       "        vertical-align: top;\n",
       "    }\n",
       "\n",
       "    .dataframe thead th {\n",
       "        text-align: right;\n",
       "    }\n",
       "</style>\n",
       "<table border=\"1\" class=\"dataframe\">\n",
       "  <thead>\n",
       "    <tr style=\"text-align: right;\">\n",
       "      <th></th>\n",
       "      <th>S. No.</th>\n",
       "      <th>Message_body</th>\n",
       "      <th>Label</th>\n",
       "      <th>Message_formate</th>\n",
       "    </tr>\n",
       "  </thead>\n",
       "  <tbody>\n",
       "    <tr>\n",
       "      <th>0</th>\n",
       "      <td>1</td>\n",
       "      <td>UpgrdCentre Orange customer, you may now claim...</td>\n",
       "      <td>Spam</td>\n",
       "      <td>upgrdcentre orange customer, you may now claim...</td>\n",
       "    </tr>\n",
       "    <tr>\n",
       "      <th>1</th>\n",
       "      <td>2</td>\n",
       "      <td>Loan for any purpose £500 - £75,000. Homeowner...</td>\n",
       "      <td>Spam</td>\n",
       "      <td>loan for any purpose £ - £,. homeowners + tena...</td>\n",
       "    </tr>\n",
       "    <tr>\n",
       "      <th>2</th>\n",
       "      <td>3</td>\n",
       "      <td>Congrats! Nokia 3650 video camera phone is you...</td>\n",
       "      <td>Spam</td>\n",
       "      <td>congrats! nokia  video camera phone is your ca...</td>\n",
       "    </tr>\n",
       "    <tr>\n",
       "      <th>3</th>\n",
       "      <td>4</td>\n",
       "      <td>URGENT! Your Mobile number has been awarded wi...</td>\n",
       "      <td>Spam</td>\n",
       "      <td>urgent! your mobile number has been awarded wi...</td>\n",
       "    </tr>\n",
       "    <tr>\n",
       "      <th>4</th>\n",
       "      <td>5</td>\n",
       "      <td>Someone has contacted our dating service and e...</td>\n",
       "      <td>Spam</td>\n",
       "      <td>someone has contacted our dating service and e...</td>\n",
       "    </tr>\n",
       "    <tr>\n",
       "      <th>...</th>\n",
       "      <td>...</td>\n",
       "      <td>...</td>\n",
       "      <td>...</td>\n",
       "      <td>...</td>\n",
       "    </tr>\n",
       "    <tr>\n",
       "      <th>120</th>\n",
       "      <td>121</td>\n",
       "      <td>7 wonders in My WORLD 7th You 6th Ur style 5th...</td>\n",
       "      <td>Non-Spam</td>\n",
       "      <td>wonders in my world th you th ur style th ur ...</td>\n",
       "    </tr>\n",
       "    <tr>\n",
       "      <th>121</th>\n",
       "      <td>122</td>\n",
       "      <td>Try to do something dear. You read something f...</td>\n",
       "      <td>Non-Spam</td>\n",
       "      <td>try to do something dear. you read something f...</td>\n",
       "    </tr>\n",
       "    <tr>\n",
       "      <th>122</th>\n",
       "      <td>123</td>\n",
       "      <td>Sun ah... Thk mayb can if dun have anythin on....</td>\n",
       "      <td>Non-Spam</td>\n",
       "      <td>sun ah... thk mayb can if dun have anythin on....</td>\n",
       "    </tr>\n",
       "    <tr>\n",
       "      <th>123</th>\n",
       "      <td>124</td>\n",
       "      <td>SYMPTOMS when U are in love: \"1.U like listeni...</td>\n",
       "      <td>Non-Spam</td>\n",
       "      <td>symptoms when u are in love: \".u like listenin...</td>\n",
       "    </tr>\n",
       "    <tr>\n",
       "      <th>124</th>\n",
       "      <td>125</td>\n",
       "      <td>Great. Have a safe trip. Dont panic surrender ...</td>\n",
       "      <td>Non-Spam</td>\n",
       "      <td>great. have a safe trip. dont panic surrender ...</td>\n",
       "    </tr>\n",
       "  </tbody>\n",
       "</table>\n",
       "<p>125 rows × 4 columns</p>\n",
       "</div>"
      ],
      "text/plain": [
       "     S. No.                                       Message_body     Label  \\\n",
       "0         1  UpgrdCentre Orange customer, you may now claim...      Spam   \n",
       "1         2  Loan for any purpose £500 - £75,000. Homeowner...      Spam   \n",
       "2         3  Congrats! Nokia 3650 video camera phone is you...      Spam   \n",
       "3         4  URGENT! Your Mobile number has been awarded wi...      Spam   \n",
       "4         5  Someone has contacted our dating service and e...      Spam   \n",
       "..      ...                                                ...       ...   \n",
       "120     121  7 wonders in My WORLD 7th You 6th Ur style 5th...  Non-Spam   \n",
       "121     122  Try to do something dear. You read something f...  Non-Spam   \n",
       "122     123  Sun ah... Thk mayb can if dun have anythin on....  Non-Spam   \n",
       "123     124  SYMPTOMS when U are in love: \"1.U like listeni...  Non-Spam   \n",
       "124     125  Great. Have a safe trip. Dont panic surrender ...  Non-Spam   \n",
       "\n",
       "                                       Message_formate  \n",
       "0    upgrdcentre orange customer, you may now claim...  \n",
       "1    loan for any purpose £ - £,. homeowners + tena...  \n",
       "2    congrats! nokia  video camera phone is your ca...  \n",
       "3    urgent! your mobile number has been awarded wi...  \n",
       "4    someone has contacted our dating service and e...  \n",
       "..                                                 ...  \n",
       "120   wonders in my world th you th ur style th ur ...  \n",
       "121  try to do something dear. you read something f...  \n",
       "122  sun ah... thk mayb can if dun have anythin on....  \n",
       "123  symptoms when u are in love: \".u like listenin...  \n",
       "124  great. have a safe trip. dont panic surrender ...  \n",
       "\n",
       "[125 rows x 4 columns]"
      ]
     },
     "execution_count": 99,
     "metadata": {},
     "output_type": "execute_result"
    }
   ],
   "source": [
    "# SUppression des chiffres\n",
    "data['Message_formate'] = data['Message_formate'].apply(remove_numbers)\n",
    "\n",
    "data"
   ]
  },
  {
   "cell_type": "code",
   "execution_count": 100,
   "metadata": {},
   "outputs": [
    {
     "data": {
      "text/html": [
       "<div>\n",
       "<style scoped>\n",
       "    .dataframe tbody tr th:only-of-type {\n",
       "        vertical-align: middle;\n",
       "    }\n",
       "\n",
       "    .dataframe tbody tr th {\n",
       "        vertical-align: top;\n",
       "    }\n",
       "\n",
       "    .dataframe thead th {\n",
       "        text-align: right;\n",
       "    }\n",
       "</style>\n",
       "<table border=\"1\" class=\"dataframe\">\n",
       "  <thead>\n",
       "    <tr style=\"text-align: right;\">\n",
       "      <th></th>\n",
       "      <th>S. No.</th>\n",
       "      <th>Message_body</th>\n",
       "      <th>Label</th>\n",
       "      <th>Message_formate</th>\n",
       "    </tr>\n",
       "  </thead>\n",
       "  <tbody>\n",
       "    <tr>\n",
       "      <th>0</th>\n",
       "      <td>1</td>\n",
       "      <td>UpgrdCentre Orange customer, you may now claim...</td>\n",
       "      <td>Spam</td>\n",
       "      <td>upgrdcentre orange customer you may now claim ...</td>\n",
       "    </tr>\n",
       "    <tr>\n",
       "      <th>1</th>\n",
       "      <td>2</td>\n",
       "      <td>Loan for any purpose £500 - £75,000. Homeowner...</td>\n",
       "      <td>Spam</td>\n",
       "      <td>loan for any purpose £  £ homeowners  tenants ...</td>\n",
       "    </tr>\n",
       "    <tr>\n",
       "      <th>2</th>\n",
       "      <td>3</td>\n",
       "      <td>Congrats! Nokia 3650 video camera phone is you...</td>\n",
       "      <td>Spam</td>\n",
       "      <td>congrats nokia  video camera phone is your cal...</td>\n",
       "    </tr>\n",
       "    <tr>\n",
       "      <th>3</th>\n",
       "      <td>4</td>\n",
       "      <td>URGENT! Your Mobile number has been awarded wi...</td>\n",
       "      <td>Spam</td>\n",
       "      <td>urgent your mobile number has been awarded wit...</td>\n",
       "    </tr>\n",
       "    <tr>\n",
       "      <th>4</th>\n",
       "      <td>5</td>\n",
       "      <td>Someone has contacted our dating service and e...</td>\n",
       "      <td>Spam</td>\n",
       "      <td>someone has contacted our dating service and e...</td>\n",
       "    </tr>\n",
       "    <tr>\n",
       "      <th>...</th>\n",
       "      <td>...</td>\n",
       "      <td>...</td>\n",
       "      <td>...</td>\n",
       "      <td>...</td>\n",
       "    </tr>\n",
       "    <tr>\n",
       "      <th>120</th>\n",
       "      <td>121</td>\n",
       "      <td>7 wonders in My WORLD 7th You 6th Ur style 5th...</td>\n",
       "      <td>Non-Spam</td>\n",
       "      <td>wonders in my world th you th ur style th ur ...</td>\n",
       "    </tr>\n",
       "    <tr>\n",
       "      <th>121</th>\n",
       "      <td>122</td>\n",
       "      <td>Try to do something dear. You read something f...</td>\n",
       "      <td>Non-Spam</td>\n",
       "      <td>try to do something dear you read something fo...</td>\n",
       "    </tr>\n",
       "    <tr>\n",
       "      <th>122</th>\n",
       "      <td>123</td>\n",
       "      <td>Sun ah... Thk mayb can if dun have anythin on....</td>\n",
       "      <td>Non-Spam</td>\n",
       "      <td>sun ah thk mayb can if dun have anythin on thk...</td>\n",
       "    </tr>\n",
       "    <tr>\n",
       "      <th>123</th>\n",
       "      <td>124</td>\n",
       "      <td>SYMPTOMS when U are in love: \"1.U like listeni...</td>\n",
       "      <td>Non-Spam</td>\n",
       "      <td>symptoms when u are in love u like listening s...</td>\n",
       "    </tr>\n",
       "    <tr>\n",
       "      <th>124</th>\n",
       "      <td>125</td>\n",
       "      <td>Great. Have a safe trip. Dont panic surrender ...</td>\n",
       "      <td>Non-Spam</td>\n",
       "      <td>great have a safe trip dont panic surrender all</td>\n",
       "    </tr>\n",
       "  </tbody>\n",
       "</table>\n",
       "<p>125 rows × 4 columns</p>\n",
       "</div>"
      ],
      "text/plain": [
       "     S. No.                                       Message_body     Label  \\\n",
       "0         1  UpgrdCentre Orange customer, you may now claim...      Spam   \n",
       "1         2  Loan for any purpose £500 - £75,000. Homeowner...      Spam   \n",
       "2         3  Congrats! Nokia 3650 video camera phone is you...      Spam   \n",
       "3         4  URGENT! Your Mobile number has been awarded wi...      Spam   \n",
       "4         5  Someone has contacted our dating service and e...      Spam   \n",
       "..      ...                                                ...       ...   \n",
       "120     121  7 wonders in My WORLD 7th You 6th Ur style 5th...  Non-Spam   \n",
       "121     122  Try to do something dear. You read something f...  Non-Spam   \n",
       "122     123  Sun ah... Thk mayb can if dun have anythin on....  Non-Spam   \n",
       "123     124  SYMPTOMS when U are in love: \"1.U like listeni...  Non-Spam   \n",
       "124     125  Great. Have a safe trip. Dont panic surrender ...  Non-Spam   \n",
       "\n",
       "                                       Message_formate  \n",
       "0    upgrdcentre orange customer you may now claim ...  \n",
       "1    loan for any purpose £  £ homeowners  tenants ...  \n",
       "2    congrats nokia  video camera phone is your cal...  \n",
       "3    urgent your mobile number has been awarded wit...  \n",
       "4    someone has contacted our dating service and e...  \n",
       "..                                                 ...  \n",
       "120   wonders in my world th you th ur style th ur ...  \n",
       "121  try to do something dear you read something fo...  \n",
       "122  sun ah thk mayb can if dun have anythin on thk...  \n",
       "123  symptoms when u are in love u like listening s...  \n",
       "124    great have a safe trip dont panic surrender all  \n",
       "\n",
       "[125 rows x 4 columns]"
      ]
     },
     "execution_count": 100,
     "metadata": {},
     "output_type": "execute_result"
    }
   ],
   "source": [
    "# Suppression de la ponctuation\n",
    "data['Message_formate'] = data['Message_formate'].apply(remove_punctuation2)\n",
    "\n",
    "data\n"
   ]
  },
  {
   "cell_type": "code",
   "execution_count": 102,
   "metadata": {},
   "outputs": [
    {
     "data": {
      "text/html": [
       "<div>\n",
       "<style scoped>\n",
       "    .dataframe tbody tr th:only-of-type {\n",
       "        vertical-align: middle;\n",
       "    }\n",
       "\n",
       "    .dataframe tbody tr th {\n",
       "        vertical-align: top;\n",
       "    }\n",
       "\n",
       "    .dataframe thead th {\n",
       "        text-align: right;\n",
       "    }\n",
       "</style>\n",
       "<table border=\"1\" class=\"dataframe\">\n",
       "  <thead>\n",
       "    <tr style=\"text-align: right;\">\n",
       "      <th></th>\n",
       "      <th>S. No.</th>\n",
       "      <th>Message_body</th>\n",
       "      <th>Label</th>\n",
       "      <th>Message_formate</th>\n",
       "    </tr>\n",
       "  </thead>\n",
       "  <tbody>\n",
       "    <tr>\n",
       "      <th>0</th>\n",
       "      <td>1</td>\n",
       "      <td>UpgrdCentre Orange customer, you may now claim...</td>\n",
       "      <td>Spam</td>\n",
       "      <td>upgrdcentre orange customer you may now claim ...</td>\n",
       "    </tr>\n",
       "    <tr>\n",
       "      <th>1</th>\n",
       "      <td>2</td>\n",
       "      <td>Loan for any purpose £500 - £75,000. Homeowner...</td>\n",
       "      <td>Spam</td>\n",
       "      <td>loan for any purpose £ £ homeowners tenants we...</td>\n",
       "    </tr>\n",
       "    <tr>\n",
       "      <th>2</th>\n",
       "      <td>3</td>\n",
       "      <td>Congrats! Nokia 3650 video camera phone is you...</td>\n",
       "      <td>Spam</td>\n",
       "      <td>congrats nokia video camera phone is your call...</td>\n",
       "    </tr>\n",
       "    <tr>\n",
       "      <th>3</th>\n",
       "      <td>4</td>\n",
       "      <td>URGENT! Your Mobile number has been awarded wi...</td>\n",
       "      <td>Spam</td>\n",
       "      <td>urgent your mobile number has been awarded wit...</td>\n",
       "    </tr>\n",
       "    <tr>\n",
       "      <th>4</th>\n",
       "      <td>5</td>\n",
       "      <td>Someone has contacted our dating service and e...</td>\n",
       "      <td>Spam</td>\n",
       "      <td>someone has contacted our dating service and e...</td>\n",
       "    </tr>\n",
       "    <tr>\n",
       "      <th>...</th>\n",
       "      <td>...</td>\n",
       "      <td>...</td>\n",
       "      <td>...</td>\n",
       "      <td>...</td>\n",
       "    </tr>\n",
       "    <tr>\n",
       "      <th>120</th>\n",
       "      <td>121</td>\n",
       "      <td>7 wonders in My WORLD 7th You 6th Ur style 5th...</td>\n",
       "      <td>Non-Spam</td>\n",
       "      <td>wonders in my world th you th ur style th ur s...</td>\n",
       "    </tr>\n",
       "    <tr>\n",
       "      <th>121</th>\n",
       "      <td>122</td>\n",
       "      <td>Try to do something dear. You read something f...</td>\n",
       "      <td>Non-Spam</td>\n",
       "      <td>try to do something dear you read something fo...</td>\n",
       "    </tr>\n",
       "    <tr>\n",
       "      <th>122</th>\n",
       "      <td>123</td>\n",
       "      <td>Sun ah... Thk mayb can if dun have anythin on....</td>\n",
       "      <td>Non-Spam</td>\n",
       "      <td>sun ah thk mayb can if dun have anythin on thk...</td>\n",
       "    </tr>\n",
       "    <tr>\n",
       "      <th>123</th>\n",
       "      <td>124</td>\n",
       "      <td>SYMPTOMS when U are in love: \"1.U like listeni...</td>\n",
       "      <td>Non-Spam</td>\n",
       "      <td>symptoms when u are in love u like listening s...</td>\n",
       "    </tr>\n",
       "    <tr>\n",
       "      <th>124</th>\n",
       "      <td>125</td>\n",
       "      <td>Great. Have a safe trip. Dont panic surrender ...</td>\n",
       "      <td>Non-Spam</td>\n",
       "      <td>great have a safe trip dont panic surrender all</td>\n",
       "    </tr>\n",
       "  </tbody>\n",
       "</table>\n",
       "<p>125 rows × 4 columns</p>\n",
       "</div>"
      ],
      "text/plain": [
       "     S. No.                                       Message_body     Label  \\\n",
       "0         1  UpgrdCentre Orange customer, you may now claim...      Spam   \n",
       "1         2  Loan for any purpose £500 - £75,000. Homeowner...      Spam   \n",
       "2         3  Congrats! Nokia 3650 video camera phone is you...      Spam   \n",
       "3         4  URGENT! Your Mobile number has been awarded wi...      Spam   \n",
       "4         5  Someone has contacted our dating service and e...      Spam   \n",
       "..      ...                                                ...       ...   \n",
       "120     121  7 wonders in My WORLD 7th You 6th Ur style 5th...  Non-Spam   \n",
       "121     122  Try to do something dear. You read something f...  Non-Spam   \n",
       "122     123  Sun ah... Thk mayb can if dun have anythin on....  Non-Spam   \n",
       "123     124  SYMPTOMS when U are in love: \"1.U like listeni...  Non-Spam   \n",
       "124     125  Great. Have a safe trip. Dont panic surrender ...  Non-Spam   \n",
       "\n",
       "                                       Message_formate  \n",
       "0    upgrdcentre orange customer you may now claim ...  \n",
       "1    loan for any purpose £ £ homeowners tenants we...  \n",
       "2    congrats nokia video camera phone is your call...  \n",
       "3    urgent your mobile number has been awarded wit...  \n",
       "4    someone has contacted our dating service and e...  \n",
       "..                                                 ...  \n",
       "120  wonders in my world th you th ur style th ur s...  \n",
       "121  try to do something dear you read something fo...  \n",
       "122  sun ah thk mayb can if dun have anythin on thk...  \n",
       "123  symptoms when u are in love u like listening s...  \n",
       "124    great have a safe trip dont panic surrender all  \n",
       "\n",
       "[125 rows x 4 columns]"
      ]
     },
     "execution_count": 102,
     "metadata": {},
     "output_type": "execute_result"
    }
   ],
   "source": [
    "# Suppression des espaces \n",
    "data['Message_formate'] = data['Message_formate'].apply(remove_whitespace)\n",
    "\n",
    "data"
   ]
  },
  {
   "cell_type": "code",
   "execution_count": 104,
   "metadata": {},
   "outputs": [
    {
     "data": {
      "text/html": [
       "<div>\n",
       "<style scoped>\n",
       "    .dataframe tbody tr th:only-of-type {\n",
       "        vertical-align: middle;\n",
       "    }\n",
       "\n",
       "    .dataframe tbody tr th {\n",
       "        vertical-align: top;\n",
       "    }\n",
       "\n",
       "    .dataframe thead th {\n",
       "        text-align: right;\n",
       "    }\n",
       "</style>\n",
       "<table border=\"1\" class=\"dataframe\">\n",
       "  <thead>\n",
       "    <tr style=\"text-align: right;\">\n",
       "      <th></th>\n",
       "      <th>S. No.</th>\n",
       "      <th>Message_body</th>\n",
       "      <th>Label</th>\n",
       "      <th>Message_formate</th>\n",
       "    </tr>\n",
       "  </thead>\n",
       "  <tbody>\n",
       "    <tr>\n",
       "      <th>0</th>\n",
       "      <td>1</td>\n",
       "      <td>UpgrdCentre Orange customer, you may now claim...</td>\n",
       "      <td>Spam</td>\n",
       "      <td>[upgrdcentre, orange, customer, you, may, now,...</td>\n",
       "    </tr>\n",
       "    <tr>\n",
       "      <th>1</th>\n",
       "      <td>2</td>\n",
       "      <td>Loan for any purpose £500 - £75,000. Homeowner...</td>\n",
       "      <td>Spam</td>\n",
       "      <td>[loan, for, any, purpose, £, £, homeowners, te...</td>\n",
       "    </tr>\n",
       "    <tr>\n",
       "      <th>2</th>\n",
       "      <td>3</td>\n",
       "      <td>Congrats! Nokia 3650 video camera phone is you...</td>\n",
       "      <td>Spam</td>\n",
       "      <td>[congrats, nokia, video, camera, phone, is, yo...</td>\n",
       "    </tr>\n",
       "    <tr>\n",
       "      <th>3</th>\n",
       "      <td>4</td>\n",
       "      <td>URGENT! Your Mobile number has been awarded wi...</td>\n",
       "      <td>Spam</td>\n",
       "      <td>[urgent, your, mobile, number, has, been, awar...</td>\n",
       "    </tr>\n",
       "    <tr>\n",
       "      <th>4</th>\n",
       "      <td>5</td>\n",
       "      <td>Someone has contacted our dating service and e...</td>\n",
       "      <td>Spam</td>\n",
       "      <td>[someone, has, contacted, our, dating, service...</td>\n",
       "    </tr>\n",
       "    <tr>\n",
       "      <th>...</th>\n",
       "      <td>...</td>\n",
       "      <td>...</td>\n",
       "      <td>...</td>\n",
       "      <td>...</td>\n",
       "    </tr>\n",
       "    <tr>\n",
       "      <th>120</th>\n",
       "      <td>121</td>\n",
       "      <td>7 wonders in My WORLD 7th You 6th Ur style 5th...</td>\n",
       "      <td>Non-Spam</td>\n",
       "      <td>[wonders, in, my, world, th, you, th, ur, styl...</td>\n",
       "    </tr>\n",
       "    <tr>\n",
       "      <th>121</th>\n",
       "      <td>122</td>\n",
       "      <td>Try to do something dear. You read something f...</td>\n",
       "      <td>Non-Spam</td>\n",
       "      <td>[try, to, do, something, dear, you, read, some...</td>\n",
       "    </tr>\n",
       "    <tr>\n",
       "      <th>122</th>\n",
       "      <td>123</td>\n",
       "      <td>Sun ah... Thk mayb can if dun have anythin on....</td>\n",
       "      <td>Non-Spam</td>\n",
       "      <td>[sun, ah, thk, mayb, can, if, dun, have, anyth...</td>\n",
       "    </tr>\n",
       "    <tr>\n",
       "      <th>123</th>\n",
       "      <td>124</td>\n",
       "      <td>SYMPTOMS when U are in love: \"1.U like listeni...</td>\n",
       "      <td>Non-Spam</td>\n",
       "      <td>[symptoms, when, u, are, in, love, u, like, li...</td>\n",
       "    </tr>\n",
       "    <tr>\n",
       "      <th>124</th>\n",
       "      <td>125</td>\n",
       "      <td>Great. Have a safe trip. Dont panic surrender ...</td>\n",
       "      <td>Non-Spam</td>\n",
       "      <td>[great, have, a, safe, trip, dont, panic, surr...</td>\n",
       "    </tr>\n",
       "  </tbody>\n",
       "</table>\n",
       "<p>125 rows × 4 columns</p>\n",
       "</div>"
      ],
      "text/plain": [
       "     S. No.                                       Message_body     Label  \\\n",
       "0         1  UpgrdCentre Orange customer, you may now claim...      Spam   \n",
       "1         2  Loan for any purpose £500 - £75,000. Homeowner...      Spam   \n",
       "2         3  Congrats! Nokia 3650 video camera phone is you...      Spam   \n",
       "3         4  URGENT! Your Mobile number has been awarded wi...      Spam   \n",
       "4         5  Someone has contacted our dating service and e...      Spam   \n",
       "..      ...                                                ...       ...   \n",
       "120     121  7 wonders in My WORLD 7th You 6th Ur style 5th...  Non-Spam   \n",
       "121     122  Try to do something dear. You read something f...  Non-Spam   \n",
       "122     123  Sun ah... Thk mayb can if dun have anythin on....  Non-Spam   \n",
       "123     124  SYMPTOMS when U are in love: \"1.U like listeni...  Non-Spam   \n",
       "124     125  Great. Have a safe trip. Dont panic surrender ...  Non-Spam   \n",
       "\n",
       "                                       Message_formate  \n",
       "0    [upgrdcentre, orange, customer, you, may, now,...  \n",
       "1    [loan, for, any, purpose, £, £, homeowners, te...  \n",
       "2    [congrats, nokia, video, camera, phone, is, yo...  \n",
       "3    [urgent, your, mobile, number, has, been, awar...  \n",
       "4    [someone, has, contacted, our, dating, service...  \n",
       "..                                                 ...  \n",
       "120  [wonders, in, my, world, th, you, th, ur, styl...  \n",
       "121  [try, to, do, something, dear, you, read, some...  \n",
       "122  [sun, ah, thk, mayb, can, if, dun, have, anyth...  \n",
       "123  [symptoms, when, u, are, in, love, u, like, li...  \n",
       "124  [great, have, a, safe, trip, dont, panic, surr...  \n",
       "\n",
       "[125 rows x 4 columns]"
      ]
     },
     "execution_count": 104,
     "metadata": {},
     "output_type": "execute_result"
    }
   ],
   "source": [
    "# Suppression des espaces \n",
    "data['Message_formate'] = data['Message_formate'].apply(remove_stopwords)\n",
    "\n",
    "data"
   ]
  }
 ],
 "metadata": {
  "kernelspec": {
   "display_name": "nom_env",
   "language": "python",
   "name": "python3"
  },
  "language_info": {
   "codemirror_mode": {
    "name": "ipython",
    "version": 3
   },
   "file_extension": ".py",
   "mimetype": "text/x-python",
   "name": "python",
   "nbconvert_exporter": "python",
   "pygments_lexer": "ipython3",
   "version": "3.11.0"
  }
 },
 "nbformat": 4,
 "nbformat_minor": 2
}
