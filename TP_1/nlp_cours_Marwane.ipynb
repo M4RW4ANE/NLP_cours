{
 "cells": [
  {
   "cell_type": "code",
   "execution_count": 3,
   "metadata": {},
   "outputs": [],
   "source": [
    "import nltk\n",
    "import string\n",
    "import re"
   ]
  },
  {
   "cell_type": "code",
   "execution_count": 4,
   "metadata": {},
   "outputs": [],
   "source": [
    "#Fonctione qui met un text en minuscule\n",
    "def minuscule (text):\n",
    "    return text.lower()"
   ]
  },
  {
   "cell_type": "code",
   "execution_count": 5,
   "metadata": {},
   "outputs": [],
   "source": [
    "imput_text = \"Bonjour, je suis un texte en majuscule 0302521250540 ros odjsdn sjudnqsdfkja aoqkjsdskl,\""
   ]
  },
  {
   "cell_type": "code",
   "execution_count": 6,
   "metadata": {},
   "outputs": [],
   "source": [
    "def enleve_les_chiffre (text):\n",
    "    return re.sub(r'\\d+', '', text)"
   ]
  },
  {
   "cell_type": "code",
   "execution_count": 7,
   "metadata": {},
   "outputs": [],
   "source": [
    "def enleve_la_ponctuation (text):\n",
    "    return text.translate(str.maketrans('', '', string.punctuation))"
   ]
  },
  {
   "cell_type": "code",
   "execution_count": 8,
   "metadata": {},
   "outputs": [
    {
     "data": {
      "text/plain": [
       "'Bonjour je suis un texte en majuscule  ros odjsdn sjudnqsdfkja aoqkjsdskl'"
      ]
     },
     "execution_count": 8,
     "metadata": {},
     "output_type": "execute_result"
    }
   ],
   "source": [
    "enleve_la_ponctuation(enleve_les_chiffre(imput_text))"
   ]
  },
  {
   "cell_type": "code",
   "execution_count": 9,
   "metadata": {},
   "outputs": [
    {
     "data": {
      "text/plain": [
       "'Bonjour, je suis un texte en majuscule three hundred and two billion, five hundred and twenty-one million, two hundred and fifty thousand, five hundred and forty ros odjsdn sjudnqsdfkja aoqkjsdskl,'"
      ]
     },
     "execution_count": 9,
     "metadata": {},
     "output_type": "execute_result"
    }
   ],
   "source": [
    "import inflect\n",
    "p = inflect.engine()\n",
    "\n",
    "#convertir les nombre en mot\n",
    "def conversion_nombre (text):\n",
    "    #on split le texte en liste de mot\n",
    "    temp_strt = text.split()\n",
    "    #on initialise une liste vide\n",
    "    new_string = []\n",
    "\n",
    "    for word in temp_strt:\n",
    "        #si le mot est un nombre\n",
    "        #on ragoute les chiffre dans une nouvelle liste\n",
    "        if word.isdigit():\n",
    "            temp = p.number_to_words(word)\n",
    "            new_string.append(temp)\n",
    "\n",
    "        # ajouter le mot da,s la liste\n",
    "        else :\n",
    "            new_string.append(word)\n",
    "\n",
    "    #on enregistre la liste en string\n",
    "    temp_strt = ' '.join(new_string)\n",
    "    return temp_strt\n",
    "\n",
    "input_text = \"Bonjour, je suis un texte en majuscule 0302521250540 ros odjsdn sjudnqsdfkja aoqkjsdskl,\"\n",
    "\n",
    "conversion_nombre(input_text)"
   ]
  },
  {
   "cell_type": "code",
   "execution_count": 10,
   "metadata": {},
   "outputs": [
    {
     "name": "stdout",
     "output_type": "stream",
     "text": [
      "['!', '\"', '#', '$', '%', '&', \"'\", '(', ')', '*', '+', ',', '-', '.', '/', ':', ';', '<', '=', '>', '?', '@', '[', '\\\\', ']', '^', '_', '`', '{', '|', '}', '~']\n"
     ]
    }
   ],
   "source": [
    "#enlever la ponctuation et les  caractères spéciaux\n",
    "remove_punctuation =  list(string.punctuation)\n",
    "print(remove_punctuation)"
   ]
  },
  {
   "cell_type": "code",
   "execution_count": 11,
   "metadata": {},
   "outputs": [
    {
     "data": {
      "text/plain": [
       "'sdkljdnvbsdjhksdjhlsd sdfmpsfskl fmojkinsdfkjnsdf slfkdfpokidlgmlzmlsdfsdfmùplf'"
      ]
     },
     "execution_count": 11,
     "metadata": {},
     "output_type": "execute_result"
    }
   ],
   "source": [
    "def remove_punctuation(text):\n",
    "    translator = str.maketrans('', '', string.punctuation)\n",
    "    return text.translate(translator)\n",
    "\n",
    "\n",
    "texte2=\"sdkljdnvbsdjhksdjhlsd sdfmp;sf;s{#[(-('(|{|[{[|~#{kl fmojkinsdfkjnsdf slfkdfpokidl,gmlz;mlsd;fsdfmù^pl;f}]}]})))]}\"\n",
    "\n",
    "remove_punctuation(texte2)"
   ]
  },
  {
   "cell_type": "code",
   "execution_count": 12,
   "metadata": {},
   "outputs": [
    {
     "data": {
      "text/plain": [
       "'dsdd dfd dsdfsdf fdsfdsfsdfsd sdfssfsd dsff sd s'"
      ]
     },
     "execution_count": 12,
     "metadata": {},
     "output_type": "execute_result"
    }
   ],
   "source": [
    "#enlever les espaces vide\n",
    "def remove_whitespace(text):\n",
    "    return \" \".join(text.split())\n",
    "\n",
    "text3=\"  dsdd    dfd dsdfsdf fdsfdsfsdfsd     sdfssfsd dsff sd  s\"\n",
    "remove_whitespace(text3)"
   ]
  },
  {
   "cell_type": "code",
   "execution_count": 13,
   "metadata": {},
   "outputs": [
    {
     "data": {
      "text/plain": [
       "'thomas le gros con'"
      ]
     },
     "execution_count": 13,
     "metadata": {},
     "output_type": "execute_result"
    }
   ],
   "source": [
    "#enlever le html tag dans dans les lien \n",
    "#on definie un patern pour les lien html\n",
    "url_pattren = re.compile(r'https?://\\S+')\n",
    "\n",
    "#On definie la fonction popur en lever l'url\n",
    "def remove_url(text):\n",
    "    return url_pattren.sub(r'thomas le gros con', text)\n",
    "\n",
    "remove_url(\"https://meet.google.com/fcc-gfir-kcc?pli=1\")"
   ]
  },
  {
   "cell_type": "code",
   "execution_count": 14,
   "metadata": {},
   "outputs": [
    {
     "data": {
      "text/plain": [
       "'<this link> a dit ,dfsjnsdfkiojf '"
      ]
     },
     "execution_count": 14,
     "metadata": {},
     "output_type": "execute_result"
    }
   ],
   "source": [
    "url_pattren=[]\n",
    "url_pattren.append(re.compile(r'https?://\\S+'))\n",
    "url_pattren.append(re.compile(r'http?://\\S+'))\n",
    "url_pattren.append(re.compile(r'www\\.\\S+'))\n",
    "\n",
    "def remove_url2(text):\n",
    "    for pattern in url_pattren:\n",
    "        text = pattern.sub(r'<this link>', text)\n",
    "        return text\n",
    "text3=\"https://meet.google.com/fcc-gfir-kcc?pli=1 a dit ,dfsjnsdfkiojf \"\n",
    "remove_url2(text3)"
   ]
  },
  {
   "cell_type": "code",
   "execution_count": 15,
   "metadata": {},
   "outputs": [
    {
     "name": "stderr",
     "output_type": "stream",
     "text": [
      "[nltk_data] Downloading package punkt_tab to\n",
      "[nltk_data]     C:\\Users\\marwane.boukili\\AppData\\Roaming\\nltk_data...\n",
      "[nltk_data]   Unzipping tokenizers\\punkt_tab.zip.\n"
     ]
    },
    {
     "data": {
      "text/plain": [
       "True"
      ]
     },
     "execution_count": 15,
     "metadata": {},
     "output_type": "execute_result"
    }
   ],
   "source": [
    "nltk.download('punkt_tab')\n"
   ]
  },
  {
   "cell_type": "code",
   "execution_count": 16,
   "metadata": {},
   "outputs": [
    {
     "name": "stdout",
     "output_type": "stream",
     "text": [
      "['This', 'is', 'a', 'text', 'to', 'tokenize', '.']\n"
     ]
    }
   ],
   "source": [
    "text=\"This is a text to tokenize.\"\n",
    "tokenized = nltk.word_tokenize(text)\n",
    "print(tokenized)"
   ]
  },
  {
   "cell_type": "code",
   "execution_count": 17,
   "metadata": {},
   "outputs": [
    {
     "name": "stderr",
     "output_type": "stream",
     "text": [
      "[nltk_data] Downloading package stopwords to\n",
      "[nltk_data]     C:\\Users\\marwane.boukili\\AppData\\Roaming\\nltk_data...\n"
     ]
    },
    {
     "name": "stdout",
     "output_type": "stream",
     "text": [
      "{'mon', 'vos', 'des', 'avec', 'serais', 'nous', 'ayons', 'se', 'aies', 'un', 'moi', 'ces', 'ayantes', 'on', 'aurez', 'aviez', 'l', 'avais', 'es', 'eûtes', 'eues', 'avons', 's', 'ma', 'avaient', 'la', 'sommes', 'fussions', 'est', 'serait', 'aurons', 'serions', 'eue', 'y', 'étais', 'en', 'soyons', 'je', 'êtes', 'fussent', 'eût', 'qui', 'sont', 'été', 'aient', 'eûmes', 'eussiez', 'fusse', 'elle', 'ne', 'auraient', 'eussions', 'fussiez', 'lui', 'avez', 'soient', 'sera', 'aurai', 'même', 'étante', 'fût', 'ai', 'sa', 'ce', 'étant', 'soit', 'pas', 'furent', 'fut', 'par', 'me', 'mes', 'seras', 'seront', 'aurions', 'aux', 'fûmes', 'étions', 'eut', 'serez', 'eusse', 'auront', 'avait', 'seraient', 'de', 'il', 'ta', 'eus', 'ait', 'tu', 'suis', 'étants', 'auras', 'au', 'toi', 'son', 'dans', 'sur', 'ont', 'tes', 'te', 'ayant', 'aurait', 'ses', 'les', 'à', 'étées', 'soyez', 'étés', 'n', 'aura', 'étaient', 'fûtes', 'eux', 'votre', 'sois', 'serons', 'serai', 't', 'fusses', 'ayants', 'et', 'du', 'c', 'aurais', 'étiez', 'étantes', 'eusses', 'leur', 'ayez', 'ou', 'seriez', 'ayante', 'ils', 'eu', 'le', 'ton', 'que', 'étée', 'j', 'aie', 'était', 'nos', 'm', 'eussent', 'mais', 'd', 'eurent', 'notre', 'qu', 'fus', 'auriez', 'vous', 'as', 'une', 'avions', 'pour'}\n"
     ]
    },
    {
     "name": "stderr",
     "output_type": "stream",
     "text": [
      "[nltk_data]   Unzipping corpora\\stopwords.zip.\n"
     ]
    }
   ],
   "source": [
    "#stop-word removal \n",
    "from nltk.corpus import stopwords\n",
    "nltk.download('stopwords')\n",
    "\n",
    "stop_words=set(stopwords.words('french'))\n",
    "print(stop_words)"
   ]
  },
  {
   "cell_type": "code",
   "execution_count": 18,
   "metadata": {},
   "outputs": [],
   "source": [
    "stop_words.add('text')"
   ]
  },
  {
   "cell_type": "code",
   "execution_count": 19,
   "metadata": {},
   "outputs": [
    {
     "name": "stdout",
     "output_type": "stream",
     "text": [
      "{'mon', 'vos', 'des', 'avec', 'serais', 'nous', 'ayons', 'se', 'aies', 'un', 'moi', 'ces', 'ayantes', 'on', 'aurez', 'aviez', 'l', 'avais', 'es', 'eûtes', 'eues', 'avons', 's', 'ma', 'avaient', 'la', 'sommes', 'fussions', 'est', 'serait', 'aurons', 'serions', 'eue', 'y', 'étais', 'en', 'soyons', 'je', 'êtes', 'fussent', 'eût', 'qui', 'sont', 'été', 'aient', 'eûmes', 'eussiez', 'fusse', 'elle', 'ne', 'auraient', 'eussions', 'fussiez', 'lui', 'avez', 'soient', 'sera', 'aurai', 'même', 'étante', 'fût', 'ai', 'sa', 'ce', 'étant', 'soit', 'pas', 'furent', 'fut', 'par', 'me', 'mes', 'seras', 'seront', 'aurions', 'aux', 'fûmes', 'étions', 'eut', 'serez', 'eusse', 'auront', 'avait', 'seraient', 'de', 'il', 'ta', 'eus', 'ait', 'tu', 'suis', 'étants', 'auras', 'au', 'toi', 'son', 'dans', 'sur', 'ont', 'tes', 'te', 'ayant', 'aurait', 'ses', 'les', 'à', 'étées', 'soyez', 'étés', 'n', 'aura', 'étaient', 'fûtes', 'eux', 'votre', 'sois', 'serons', 'serai', 't', 'fusses', 'ayants', 'et', 'du', 'c', 'aurais', 'étiez', 'étantes', 'eusses', 'leur', 'ayez', 'ou', 'seriez', 'ayante', 'ils', 'eu', 'le', 'ton', 'text', 'que', 'étée', 'j', 'aie', 'était', 'nos', 'm', 'eussent', 'mais', 'd', 'eurent', 'notre', 'qu', 'fus', 'auriez', 'vous', 'as', 'une', 'avions', 'pour'}\n"
     ]
    }
   ],
   "source": [
    "print(stop_words)"
   ]
  },
  {
   "cell_type": "code",
   "execution_count": 20,
   "metadata": {},
   "outputs": [
    {
     "name": "stderr",
     "output_type": "stream",
     "text": [
      "[nltk_data] Downloading package punkt to\n",
      "[nltk_data]     C:\\Users\\marwane.boukili\\AppData\\Roaming\\nltk_data...\n",
      "[nltk_data]   Unzipping tokenizers\\punkt.zip.\n",
      "[nltk_data] Downloading package stopwords to\n",
      "[nltk_data]     C:\\Users\\marwane.boukili\\AppData\\Roaming\\nltk_data...\n",
      "[nltk_data]   Package stopwords is already up-to-date!\n"
     ]
    },
    {
     "name": "stdout",
     "output_type": "stream",
     "text": [
      "Avnt de retirer les stop words :  cherche les mot interessant dans ce texte\n",
      "Après avoir retiré les stop words :  cherche mot interessant texte\n"
     ]
    }
   ],
   "source": [
    "import nltk\n",
    "from nltk.corpus import stopwords\n",
    "from nltk.tokenize import word_tokenize\n",
    "\n",
    "\n",
    "nltk.download('punkt')\n",
    "nltk.download('stopwords')\n",
    "\n",
    "def remove_stopwords(text):\n",
    "    stop_words = set(stopwords.words('french'))\n",
    "    word_tokens = word_tokenize(text)\n",
    "\n",
    "    filtered_text = [word for word in word_tokens if word.lower() not in stop_words]\n",
    "    return ' '.join(filtered_text)\n",
    "\n",
    "exmple_text = \"cherche les mot interessant dans ce texte\"\n",
    "print(\"Avnt de retirer les stop words : \", exmple_text)\n",
    "print(\"Après avoir retiré les stop words : \", remove_stopwords(exmple_text))"
   ]
  },
  {
   "cell_type": "code",
   "execution_count": 21,
   "metadata": {},
   "outputs": [
    {
     "data": {
      "text/plain": [
       "['data',\n",
       " 'scienc',\n",
       " 'is',\n",
       " 'the',\n",
       " 'sexiest',\n",
       " 'job',\n",
       " 'of',\n",
       " 'the',\n",
       " '21st',\n",
       " 'centuri',\n",
       " 'and',\n",
       " 'the',\n",
       " 'sexiest',\n",
       " 'job',\n",
       " 'of',\n",
       " '2019']"
      ]
     },
     "execution_count": 21,
     "metadata": {},
     "output_type": "execute_result"
    }
   ],
   "source": [
    "from nltk.stem import PorterStemmer\n",
    "from nltk.tokenize import word_tokenize\n",
    "stemmer = PorterStemmer()\n",
    "\n",
    "def stem_words(text):\n",
    "    word_tokens=word_tokenize(text)\n",
    "    stems = [stemmer.stem(word) for word in word_tokens]\n",
    "    return stems\n",
    "text = \"Data Science is the sexiest job of the 21st century and the sexiest job of 2019\"\n",
    "stem_words(text)"
   ]
  },
  {
   "cell_type": "code",
   "execution_count": 22,
   "metadata": {},
   "outputs": [
    {
     "name": "stderr",
     "output_type": "stream",
     "text": [
      "[nltk_data] Downloading package punkt to\n",
      "[nltk_data]     C:\\Users\\marwane.boukili\\AppData\\Roaming\\nltk_data...\n",
      "[nltk_data]   Package punkt is already up-to-date!\n",
      "[nltk_data] Downloading package wordnet to\n",
      "[nltk_data]     C:\\Users\\marwane.boukili\\AppData\\Roaming\\nltk_data...\n"
     ]
    },
    {
     "data": {
      "text/plain": [
       "['Data',\n",
       " 'Science',\n",
       " 'is',\n",
       " 'the',\n",
       " 'sexiest',\n",
       " 'job',\n",
       " 'of',\n",
       " 'the',\n",
       " '21st',\n",
       " 'century',\n",
       " 'and',\n",
       " 'the',\n",
       " 'sexiest',\n",
       " 'job',\n",
       " 'of',\n",
       " '2019']"
      ]
     },
     "execution_count": 22,
     "metadata": {},
     "output_type": "execute_result"
    }
   ],
   "source": [
    "import nltk\n",
    "from nltk.tokenize import word_tokenize\n",
    "from nltk.stem import WordNetLemmatizer\n",
    "\n",
    "nltk.download('punkt')\n",
    "nltk.download('wordnet')\n",
    "\n",
    "lemmatizer = WordNetLemmatizer()\n",
    "\n",
    "def lemma_words(text):\n",
    "    word_tokens = word_tokenize(text)\n",
    "    lemmas = [lemmatizer.lemmatize(word) for word in word_tokens]\n",
    "    return lemmas\n",
    "\n",
    "text52 = \"Data Science is the sexiest job of the 21st century and the sexiest job of 2019\"\n",
    "lemma_words(text52)\n"
   ]
  },
  {
   "cell_type": "code",
   "execution_count": 23,
   "metadata": {},
   "outputs": [
    {
     "ename": "OSError",
     "evalue": "[E050] Can't find model 'en_core_web_sm'. It doesn't seem to be a Python package or a valid path to a data directory.",
     "output_type": "error",
     "traceback": [
      "\u001b[1;31m---------------------------------------------------------------------------\u001b[0m",
      "\u001b[1;31mOSError\u001b[0m                                   Traceback (most recent call last)",
      "Cell \u001b[1;32mIn[23], line 3\u001b[0m\n\u001b[0;32m      1\u001b[0m \u001b[38;5;28;01mimport\u001b[39;00m\u001b[38;5;250m \u001b[39m\u001b[38;5;21;01mspacy\u001b[39;00m\n\u001b[1;32m----> 3\u001b[0m nlp \u001b[38;5;241m=\u001b[39m \u001b[43mspacy\u001b[49m\u001b[38;5;241;43m.\u001b[39;49m\u001b[43mload\u001b[49m\u001b[43m(\u001b[49m\u001b[38;5;124;43m'\u001b[39;49m\u001b[38;5;124;43men_core_web_sm\u001b[39;49m\u001b[38;5;124;43m'\u001b[39;49m\u001b[43m)\u001b[49m\n\u001b[0;32m      5\u001b[0m text \u001b[38;5;241m=\u001b[39m \u001b[38;5;124m\"\u001b[39m\u001b[38;5;124mData Science is the sexiest job of the 21st century and the sexiest job of 2019\u001b[39m\u001b[38;5;124m\"\u001b[39m\n\u001b[0;32m      6\u001b[0m doc \u001b[38;5;241m=\u001b[39m nlp(text)\n",
      "File \u001b[1;32mc:\\Users\\marwane.boukili\\Desktop\\cours\\nlp\\venv\\Lib\\site-packages\\spacy\\__init__.py:51\u001b[0m, in \u001b[0;36mload\u001b[1;34m(name, vocab, disable, enable, exclude, config)\u001b[0m\n\u001b[0;32m     27\u001b[0m \u001b[38;5;28;01mdef\u001b[39;00m\u001b[38;5;250m \u001b[39m\u001b[38;5;21mload\u001b[39m(\n\u001b[0;32m     28\u001b[0m     name: Union[\u001b[38;5;28mstr\u001b[39m, Path],\n\u001b[0;32m     29\u001b[0m     \u001b[38;5;241m*\u001b[39m,\n\u001b[1;32m   (...)\u001b[0m\n\u001b[0;32m     34\u001b[0m     config: Union[Dict[\u001b[38;5;28mstr\u001b[39m, Any], Config] \u001b[38;5;241m=\u001b[39m util\u001b[38;5;241m.\u001b[39mSimpleFrozenDict(),\n\u001b[0;32m     35\u001b[0m ) \u001b[38;5;241m-\u001b[39m\u001b[38;5;241m>\u001b[39m Language:\n\u001b[0;32m     36\u001b[0m \u001b[38;5;250m    \u001b[39m\u001b[38;5;124;03m\"\"\"Load a spaCy model from an installed package or a local path.\u001b[39;00m\n\u001b[0;32m     37\u001b[0m \n\u001b[0;32m     38\u001b[0m \u001b[38;5;124;03m    name (str): Package name or model path.\u001b[39;00m\n\u001b[1;32m   (...)\u001b[0m\n\u001b[0;32m     49\u001b[0m \u001b[38;5;124;03m    RETURNS (Language): The loaded nlp object.\u001b[39;00m\n\u001b[0;32m     50\u001b[0m \u001b[38;5;124;03m    \"\"\"\u001b[39;00m\n\u001b[1;32m---> 51\u001b[0m     \u001b[38;5;28;01mreturn\u001b[39;00m \u001b[43mutil\u001b[49m\u001b[38;5;241;43m.\u001b[39;49m\u001b[43mload_model\u001b[49m\u001b[43m(\u001b[49m\n\u001b[0;32m     52\u001b[0m \u001b[43m        \u001b[49m\u001b[43mname\u001b[49m\u001b[43m,\u001b[49m\n\u001b[0;32m     53\u001b[0m \u001b[43m        \u001b[49m\u001b[43mvocab\u001b[49m\u001b[38;5;241;43m=\u001b[39;49m\u001b[43mvocab\u001b[49m\u001b[43m,\u001b[49m\n\u001b[0;32m     54\u001b[0m \u001b[43m        \u001b[49m\u001b[43mdisable\u001b[49m\u001b[38;5;241;43m=\u001b[39;49m\u001b[43mdisable\u001b[49m\u001b[43m,\u001b[49m\n\u001b[0;32m     55\u001b[0m \u001b[43m        \u001b[49m\u001b[43menable\u001b[49m\u001b[38;5;241;43m=\u001b[39;49m\u001b[43menable\u001b[49m\u001b[43m,\u001b[49m\n\u001b[0;32m     56\u001b[0m \u001b[43m        \u001b[49m\u001b[43mexclude\u001b[49m\u001b[38;5;241;43m=\u001b[39;49m\u001b[43mexclude\u001b[49m\u001b[43m,\u001b[49m\n\u001b[0;32m     57\u001b[0m \u001b[43m        \u001b[49m\u001b[43mconfig\u001b[49m\u001b[38;5;241;43m=\u001b[39;49m\u001b[43mconfig\u001b[49m\u001b[43m,\u001b[49m\n\u001b[0;32m     58\u001b[0m \u001b[43m    \u001b[49m\u001b[43m)\u001b[49m\n",
      "File \u001b[1;32mc:\\Users\\marwane.boukili\\Desktop\\cours\\nlp\\venv\\Lib\\site-packages\\spacy\\util.py:472\u001b[0m, in \u001b[0;36mload_model\u001b[1;34m(name, vocab, disable, enable, exclude, config)\u001b[0m\n\u001b[0;32m    470\u001b[0m \u001b[38;5;28;01mif\u001b[39;00m name \u001b[38;5;129;01min\u001b[39;00m OLD_MODEL_SHORTCUTS:\n\u001b[0;32m    471\u001b[0m     \u001b[38;5;28;01mraise\u001b[39;00m \u001b[38;5;167;01mIOError\u001b[39;00m(Errors\u001b[38;5;241m.\u001b[39mE941\u001b[38;5;241m.\u001b[39mformat(name\u001b[38;5;241m=\u001b[39mname, full\u001b[38;5;241m=\u001b[39mOLD_MODEL_SHORTCUTS[name]))  \u001b[38;5;66;03m# type: ignore[index]\u001b[39;00m\n\u001b[1;32m--> 472\u001b[0m \u001b[38;5;28;01mraise\u001b[39;00m \u001b[38;5;167;01mIOError\u001b[39;00m(Errors\u001b[38;5;241m.\u001b[39mE050\u001b[38;5;241m.\u001b[39mformat(name\u001b[38;5;241m=\u001b[39mname))\n",
      "\u001b[1;31mOSError\u001b[0m: [E050] Can't find model 'en_core_web_sm'. It doesn't seem to be a Python package or a valid path to a data directory."
     ]
    }
   ],
   "source": [
    "import spacy\n",
    "\n",
    "nlp = spacy.load('en_core_web_sm')\n",
    "\n",
    "text = \"Data Science is the sexiest job of the 21st century and the sexiest job of 2019\"\n",
    "doc = nlp(text)\n",
    "\n",
    "lemmatized_tokens=[token.lemma_ for token in doc]\n",
    "lemmatized_text = ' '.join(lemmatized_tokens)\n",
    "\n",
    "print(\"original text\",text)\n",
    "print(\"lemmatized \",lemmatized_text)"
   ]
  }
 ],
 "metadata": {
  "kernelspec": {
   "display_name": "venv",
   "language": "python",
   "name": "python3"
  },
  "language_info": {
   "codemirror_mode": {
    "name": "ipython",
    "version": 3
   },
   "file_extension": ".py",
   "mimetype": "text/x-python",
   "name": "python",
   "nbconvert_exporter": "python",
   "pygments_lexer": "ipython3",
   "version": "3.11.9"
  }
 },
 "nbformat": 4,
 "nbformat_minor": 2
}
